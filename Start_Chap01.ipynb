{
 "cells": [
  {
   "cell_type": "code",
   "execution_count": null,
   "id": "db352834",
   "metadata": {},
   "outputs": [],
   "source": [
    "import numpy as np\n",
    "from glob import glob\n",
    "from matplotlib import pyplot as plt\n",
    "\n",
    "import cv2"
   ]
  },
  {
   "cell_type": "code",
   "execution_count": null,
   "id": "3617be2e",
   "metadata": {},
   "outputs": [],
   "source": [
    "imgData = glob('../../../pics/imagingbook-images-de3/ch03/*.*')"
   ]
  },
  {
   "cell_type": "code",
   "execution_count": null,
   "id": "3ca994b1",
   "metadata": {},
   "outputs": [],
   "source": [
    "imgData"
   ]
  },
  {
   "cell_type": "code",
   "execution_count": null,
   "id": "29dcc679",
   "metadata": {},
   "outputs": [],
   "source": [
    "imgData[6]"
   ]
  },
  {
   "cell_type": "code",
   "execution_count": null,
   "id": "17cb17cf",
   "metadata": {},
   "outputs": [],
   "source": [
    "image = cv2.imread(imgData[6])"
   ]
  },
  {
   "cell_type": "code",
   "execution_count": null,
   "id": "b21fefa4",
   "metadata": {},
   "outputs": [],
   "source": [
    "plt.imshow(image)"
   ]
  },
  {
   "cell_type": "code",
   "execution_count": null,
   "id": "a030c1bb",
   "metadata": {},
   "outputs": [],
   "source": []
  }
 ],
 "metadata": {
  "kernelspec": {
   "display_name": "Python 3",
   "language": "python",
   "name": "python3"
  },
  "language_info": {
   "codemirror_mode": {
    "name": "ipython",
    "version": 3
   },
   "file_extension": ".py",
   "mimetype": "text/x-python",
   "name": "python",
   "nbconvert_exporter": "python",
   "pygments_lexer": "ipython3",
   "version": "3.6.9"
  }
 },
 "nbformat": 4,
 "nbformat_minor": 5
}
