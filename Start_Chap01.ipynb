{
 "cells": [
  {
   "cell_type": "markdown",
   "id": "649e9b81",
   "metadata": {},
   "source": [
    "# Chapter 1: Read and show images with openCV in Python "
   ]
  },
  {
   "cell_type": "markdown",
   "id": "2a2bddf6",
   "metadata": {},
   "source": [
    "In the following the our general setup for our programming exercise outlined. All the following notebooks will start in the same way. Which is mainly, including the liberies and storing image data file names in a effictive way."
   ]
  },
  {
   "cell_type": "markdown",
   "id": "8fd635df",
   "metadata": {},
   "source": [
    "<b>1. Step: Import libs that are need for basic image processing</b><br>\n",
    "Notice, we using openCV for image manipulation and the Python lib matplotlib for display the image data."
   ]
  },
  {
   "cell_type": "code",
   "execution_count": null,
   "id": "db352834",
   "metadata": {},
   "outputs": [],
   "source": [
    "import numpy as np\n",
    "from glob import glob\n",
    "from matplotlib import pyplot as plt\n",
    "\n",
    "import cv2"
   ]
  },
  {
   "cell_type": "markdown",
   "id": "983c4115",
   "metadata": {},
   "source": [
    "<b>2. Step: Get some image data.</b><br>\n",
    "Here we store the names of image files incl. path in an array called imgData."
   ]
  },
  {
   "cell_type": "code",
   "execution_count": null,
   "id": "3617be2e",
   "metadata": {},
   "outputs": [],
   "source": [
    "imgData = glob('../../../pics/imagingbook-images-de3/ch03/*.*')"
   ]
  },
  {
   "cell_type": "code",
   "execution_count": null,
   "id": "3ca994b1",
   "metadata": {},
   "outputs": [],
   "source": [
    "imgData"
   ]
  },
  {
   "cell_type": "markdown",
   "id": "39e1c515",
   "metadata": {},
   "source": [
    "<b>3. Step: Select a single imaga data file.</b><br>"
   ]
  },
  {
   "cell_type": "code",
   "execution_count": null,
   "id": "29dcc679",
   "metadata": {},
   "outputs": [],
   "source": [
    "imgData[6]"
   ]
  },
  {
   "cell_type": "markdown",
   "id": "e4678e77",
   "metadata": {},
   "source": [
    "<b>4. Step: Read image data from file.</b><br>\n",
    "We always use the openCV functionality for reading the data from file. The image is now stored in the variable <em>image</em>."
   ]
  },
  {
   "cell_type": "code",
   "execution_count": null,
   "id": "17cb17cf",
   "metadata": {},
   "outputs": [],
   "source": [
    "image = cv2.imread(imgData[6])"
   ]
  },
  {
   "cell_type": "markdown",
   "id": "e3680ff8",
   "metadata": {},
   "source": [
    "<b>5. Step: Plot image data.</b><br>\n",
    "For plotting and display the image data we always use python functionality provied by the python libary <em>matplotlib</em>."
   ]
  },
  {
   "cell_type": "code",
   "execution_count": null,
   "id": "b21fefa4",
   "metadata": {},
   "outputs": [],
   "source": [
    "plt.imshow(image)"
   ]
  },
  {
   "cell_type": "markdown",
   "id": "0be0c85e",
   "metadata": {},
   "source": [
    "<b>6. Step: Evaluate the data shown (always be sceptical)</b><br>."
   ]
  },
  {
   "cell_type": "code",
   "execution_count": null,
   "id": "5c4ede90",
   "metadata": {},
   "outputs": [],
   "source": []
  }
 ],
 "metadata": {
  "kernelspec": {
   "display_name": "Python 3",
   "language": "python",
   "name": "python3"
  },
  "language_info": {
   "codemirror_mode": {
    "name": "ipython",
    "version": 3
   },
   "file_extension": ".py",
   "mimetype": "text/x-python",
   "name": "python",
   "nbconvert_exporter": "python",
   "pygments_lexer": "ipython3",
   "version": "3.6.9"
  }
 },
 "nbformat": 4,
 "nbformat_minor": 5
}
