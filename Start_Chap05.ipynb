{
 "cells": [
  {
   "cell_type": "markdown",
   "id": "b3867c1d",
   "metadata": {},
   "source": [
    "# Basics"
   ]
  },
  {
   "cell_type": "markdown",
   "id": "74e990a3",
   "metadata": {},
   "source": [
    "## Chapter 5: Drawing primitives in openCV"
   ]
  },
  {
   "cell_type": "code",
   "execution_count": null,
   "id": "8af3fe19",
   "metadata": {},
   "outputs": [],
   "source": [
    "import numpy as np\n",
    "from glob import glob\n",
    "from matplotlib import pyplot as plt\n",
    "\n",
    "import cv2"
   ]
  },
  {
   "cell_type": "code",
   "execution_count": null,
   "id": "c018a671",
   "metadata": {},
   "outputs": [],
   "source": [
    "imgData = glob('../../../pics/imagingbook-images-de3/ch16/*.*')"
   ]
  },
  {
   "cell_type": "code",
   "execution_count": null,
   "id": "caa8862d",
   "metadata": {},
   "outputs": [],
   "source": [
    "img = cv2.imread(imgData[3]) "
   ]
  },
  {
   "cell_type": "code",
   "execution_count": null,
   "id": "ec3ec619",
   "metadata": {},
   "outputs": [],
   "source": [
    "img = cv2.cvtColor(img,cv2.COLOR_BGR2GRAY)"
   ]
  },
  {
   "cell_type": "code",
   "execution_count": null,
   "id": "de618ecf",
   "metadata": {},
   "outputs": [],
   "source": [
    "plt.imshow(img, cmap='gray')"
   ]
  },
  {
   "cell_type": "markdown",
   "id": "d3951722",
   "metadata": {},
   "source": [
    "<b>1: Create your own drawings</b>"
   ]
  },
  {
   "cell_type": "markdown",
   "id": "f3bab541",
   "metadata": {},
   "source": [
    "You might use the following online tutorial:\n",
    "<em>https://www.tutorialspoint.com/opencv_python/opencv_python_drawshapes_text.htm</em>"
   ]
  },
  {
   "cell_type": "markdown",
   "id": "49d51a8a",
   "metadata": {},
   "source": [
    "<b>2: Create an image</b> for drawing"
   ]
  },
  {
   "cell_type": "code",
   "execution_count": null,
   "id": "3d82d96d",
   "metadata": {},
   "outputs": [],
   "source": [
    "h, w = img.shape\n",
    "drwImg = np.zeros((h,w),np.uint8)"
   ]
  },
  {
   "cell_type": "code",
   "execution_count": null,
   "id": "14a0b680",
   "metadata": {},
   "outputs": [],
   "source": [
    "plt.imshow(drwImg, cmap='gray')"
   ]
  },
  {
   "cell_type": "markdown",
   "id": "b273c103",
   "metadata": {},
   "source": [
    "<b>3: Draw a circle</b>"
   ]
  },
  {
   "cell_type": "code",
   "execution_count": null,
   "id": "ca1cafd1",
   "metadata": {},
   "outputs": [],
   "source": [
    "cv2.circle(drwImg, (np.uint64(w/2),np.uint64(h/3)),50,(255,255,255),-1) \n",
    "# arguments: image, center, radius, gray value, thickness\n",
    "plt.imshow(drwImg, cmap='gray')"
   ]
  },
  {
   "cell_type": "code",
   "execution_count": null,
   "id": "73efa951",
   "metadata": {},
   "outputs": [],
   "source": [
    "cv2.rectangle(drwImg,(100,200),(200,300),(255,255,255),-1) \n",
    "# arguments: image, center, radius, gray value, thickness\n",
    "plt.imshow(drwImg, cmap='gray')"
   ]
  },
  {
   "cell_type": "markdown",
   "id": "fee797f5",
   "metadata": {},
   "source": [
    "<b> 4: Overlay both images to extract reagion of interest</b> "
   ]
  },
  {
   "cell_type": "code",
   "execution_count": null,
   "id": "f24f96af",
   "metadata": {},
   "outputs": [],
   "source": [
    "rows,cols = img.shape\n",
    "for i in range(rows):\n",
    "    for j in range(cols):\n",
    "        if(drwImg[i,j] < 255):\n",
    "            img[i,j] = 0"
   ]
  },
  {
   "cell_type": "code",
   "execution_count": null,
   "id": "cd4a1038",
   "metadata": {},
   "outputs": [],
   "source": [
    "plt.imshow(img, cmap='gray')"
   ]
  },
  {
   "cell_type": "code",
   "execution_count": null,
   "id": "70eea290",
   "metadata": {},
   "outputs": [],
   "source": []
  }
 ],
 "metadata": {
  "kernelspec": {
   "display_name": "Python 3",
   "language": "python",
   "name": "python3"
  },
  "language_info": {
   "codemirror_mode": {
    "name": "ipython",
    "version": 3
   },
   "file_extension": ".py",
   "mimetype": "text/x-python",
   "name": "python",
   "nbconvert_exporter": "python",
   "pygments_lexer": "ipython3",
   "version": "3.6.9"
  }
 },
 "nbformat": 4,
 "nbformat_minor": 5
}
