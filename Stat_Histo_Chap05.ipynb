{
 "cells": [
  {
   "cell_type": "markdown",
   "id": "a5cf774b",
   "metadata": {},
   "source": [
    "# Histograms in image processing"
   ]
  },
  {
   "cell_type": "markdown",
   "id": "5c2d0708",
   "metadata": {},
   "source": [
    "## Chapter 5: Histograms for color images"
   ]
  },
  {
   "cell_type": "code",
   "execution_count": null,
   "id": "45eb9997",
   "metadata": {},
   "outputs": [],
   "source": [
    "import numpy as np\n",
    "from glob import glob\n",
    "from matplotlib import pyplot as plt\n",
    "\n",
    "import cv2"
   ]
  },
  {
   "cell_type": "code",
   "execution_count": null,
   "id": "237b835e",
   "metadata": {},
   "outputs": [],
   "source": [
    "imgData = glob('../../../pics/imagingbook-images-de3/ch03/*.*')"
   ]
  },
  {
   "cell_type": "code",
   "execution_count": null,
   "id": "1e1b48d6",
   "metadata": {},
   "outputs": [],
   "source": [
    "img = cv2.imread(imgData[6]) \n",
    "img = cv2.cvtColor(img, cv2.COLOR_RGB2BGR) #img is now RGB"
   ]
  },
  {
   "cell_type": "code",
   "execution_count": null,
   "id": "3189b3bf",
   "metadata": {},
   "outputs": [],
   "source": [
    "plt.imshow(img)"
   ]
  },
  {
   "cell_type": "code",
   "execution_count": null,
   "id": "7e7756de",
   "metadata": {},
   "outputs": [],
   "source": [
    "rows,cols,c = img.shape\n",
    "\n",
    "imgR = np.zeros((rows,cols),np.uint8)\n",
    "imgG = imgR.copy()\n",
    "imgB = imgR.copy()"
   ]
  },
  {
   "cell_type": "code",
   "execution_count": null,
   "id": "9b0c6c87",
   "metadata": {},
   "outputs": [],
   "source": [
    "for i in range(rows):\n",
    "    for j in range(cols):\n",
    "        imgR[i,j] = img[i,j,0]\n",
    "        imgG[i,j] = img[i,j,1]\n",
    "        imgB[i,j] = img[i,j,2]"
   ]
  },
  {
   "cell_type": "code",
   "execution_count": null,
   "id": "7e6599ce",
   "metadata": {},
   "outputs": [],
   "source": [
    "valuesR, baseR = np.histogram(imgR.ravel(),256,[0,255])\n",
    "valuesG, baseG = np.histogram(imgG.ravel(),256,[0,255])\n",
    "valuesB, baseB = np.histogram(imgB.ravel(),256,[0,255])\n",
    "\n",
    "\n",
    "cumHistR = np.cumsum(valuesR)\n",
    "cumHistG = np.cumsum(valuesG)\n",
    "cumHistB = np.cumsum(valuesB)"
   ]
  },
  {
   "cell_type": "code",
   "execution_count": null,
   "id": "9ed4d9d0",
   "metadata": {},
   "outputs": [],
   "source": [
    "plt.subplots(figsize=(20,20))\n",
    "\n",
    "plt.subplot(3,3,1)\n",
    "plt.title('Red')\n",
    "plt.imshow(imgR, cmap='gray')\n",
    "\n",
    "plt.subplot(3,3,2)\n",
    "plt.title('Green')\n",
    "plt.imshow(imgG, cmap='gray')\n",
    "\n",
    "plt.subplot(3,3,3)\n",
    "plt.title('Blue')\n",
    "plt.imshow(imgB, cmap='gray')\n",
    "\n",
    "plt.subplot(3,3,4)\n",
    "plt.hist(imgR.ravel(),256,[0,255]);\n",
    "\n",
    "plt.subplot(3,3,5)\n",
    "plt.hist(imgG.ravel(),256,[0,255]);\n",
    "\n",
    "plt.subplot(3,3,6)\n",
    "plt.hist(imgB.ravel(),256,[0,255]);\n",
    "\n",
    "plt.subplot(3,3,7)\n",
    "plt.plot(baseR[:-1], cumHistR)\n",
    "\n",
    "plt.subplot(3,3,8)\n",
    "plt.plot(baseG[:-1], cumHistG)\n",
    "\n",
    "plt.subplot(3,3,9)\n",
    "plt.plot(baseB[:-1], cumHistB)"
   ]
  },
  {
   "cell_type": "code",
   "execution_count": null,
   "id": "21896fa0",
   "metadata": {},
   "outputs": [],
   "source": []
  }
 ],
 "metadata": {
  "kernelspec": {
   "display_name": "Python 3",
   "language": "python",
   "name": "python3"
  },
  "language_info": {
   "codemirror_mode": {
    "name": "ipython",
    "version": 3
   },
   "file_extension": ".py",
   "mimetype": "text/x-python",
   "name": "python",
   "nbconvert_exporter": "python",
   "pygments_lexer": "ipython3",
   "version": "3.6.9"
  }
 },
 "nbformat": 4,
 "nbformat_minor": 5
}
