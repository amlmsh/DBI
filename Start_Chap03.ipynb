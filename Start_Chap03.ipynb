{
 "cells": [
  {
   "cell_type": "markdown",
   "id": "244b199a",
   "metadata": {},
   "source": [
    "# Basics"
   ]
  },
  {
   "cell_type": "markdown",
   "id": "9b72812d",
   "metadata": {},
   "source": [
    "## Chapter 3: Create image data"
   ]
  },
  {
   "cell_type": "code",
   "execution_count": null,
   "id": "cef456c3",
   "metadata": {},
   "outputs": [],
   "source": [
    "import numpy as np\n",
    "from glob import glob\n",
    "from matplotlib import pyplot as plt\n",
    "\n",
    "import cv2"
   ]
  },
  {
   "cell_type": "markdown",
   "id": "227cb526",
   "metadata": {},
   "source": [
    "<b>Define dimensions of the image data</b>"
   ]
  },
  {
   "cell_type": "code",
   "execution_count": null,
   "id": "7071b21e",
   "metadata": {},
   "outputs": [],
   "source": [
    "height = 480 # number of rows\n",
    "width  = 640 # number of columns"
   ]
  },
  {
   "cell_type": "markdown",
   "id": "3b4d8e09",
   "metadata": {},
   "source": [
    "<b>Create an gray value image</b>"
   ]
  },
  {
   "cell_type": "code",
   "execution_count": null,
   "id": "18179f13",
   "metadata": {},
   "outputs": [],
   "source": [
    "grayImg = np.zeros((height,width),np.uint8)"
   ]
  },
  {
   "cell_type": "code",
   "execution_count": null,
   "id": "f9d00b2e",
   "metadata": {},
   "outputs": [],
   "source": [
    "grayImg.shape"
   ]
  },
  {
   "cell_type": "code",
   "execution_count": null,
   "id": "1509d125",
   "metadata": {},
   "outputs": [],
   "source": [
    "grayImg"
   ]
  },
  {
   "cell_type": "code",
   "execution_count": null,
   "id": "8c7aac9d",
   "metadata": {},
   "outputs": [],
   "source": [
    "plt.imshow(grayImg)"
   ]
  },
  {
   "cell_type": "code",
   "execution_count": null,
   "id": "eec55c21",
   "metadata": {},
   "outputs": [],
   "source": [
    "plt.imshow(grayImg,cmap='gray')"
   ]
  },
  {
   "cell_type": "markdown",
   "id": "39950738",
   "metadata": {},
   "source": [
    "<b>Create an color image</b>"
   ]
  },
  {
   "cell_type": "code",
   "execution_count": null,
   "id": "205766fb",
   "metadata": {},
   "outputs": [],
   "source": [
    "colorImg = np.zeros((height,width,3),np.uint8)"
   ]
  },
  {
   "cell_type": "code",
   "execution_count": null,
   "id": "34df2b00",
   "metadata": {},
   "outputs": [],
   "source": [
    "colorImg.shape"
   ]
  },
  {
   "cell_type": "code",
   "execution_count": null,
   "id": "f67c3971",
   "metadata": {},
   "outputs": [],
   "source": [
    "colorImg"
   ]
  },
  {
   "cell_type": "code",
   "execution_count": null,
   "id": "86d89d65",
   "metadata": {},
   "outputs": [],
   "source": [
    "plt.imshow(colorImg)"
   ]
  },
  {
   "cell_type": "markdown",
   "id": "02aff0bd",
   "metadata": {},
   "source": [
    "<b>Create random gray and color values</b>"
   ]
  },
  {
   "cell_type": "code",
   "execution_count": null,
   "id": "2f886420",
   "metadata": {},
   "outputs": [],
   "source": [
    "import random \n",
    "\n",
    "rows,cols = grayImg.shape\n",
    "for i in range(rows):\n",
    "    for j in range(cols):\n",
    "        grayImg[i,j] = random.randint(0,255)"
   ]
  },
  {
   "cell_type": "code",
   "execution_count": null,
   "id": "67102baa",
   "metadata": {},
   "outputs": [],
   "source": [
    "plt.imshow(grayImg,cmap='gray')"
   ]
  },
  {
   "cell_type": "code",
   "execution_count": null,
   "id": "4d8da695",
   "metadata": {},
   "outputs": [],
   "source": [
    "rows,cols,c = colorImg.shape\n",
    "for i in range(rows):\n",
    "    for j in range(cols):\n",
    "        colorImg[i,j,0] = random.randint(0,255)\n",
    "        colorImg[i,j,1] = random.randint(0,255)\n",
    "        colorImg[i,j,2] = random.randint(0,255)"
   ]
  },
  {
   "cell_type": "code",
   "execution_count": null,
   "id": "e9d2892b",
   "metadata": {},
   "outputs": [],
   "source": [
    "plt.imshow(colorImg)"
   ]
  },
  {
   "cell_type": "code",
   "execution_count": null,
   "id": "da52648a",
   "metadata": {},
   "outputs": [],
   "source": []
  }
 ],
 "metadata": {
  "kernelspec": {
   "display_name": "Python 3",
   "language": "python",
   "name": "python3"
  },
  "language_info": {
   "codemirror_mode": {
    "name": "ipython",
    "version": 3
   },
   "file_extension": ".py",
   "mimetype": "text/x-python",
   "name": "python",
   "nbconvert_exporter": "python",
   "pygments_lexer": "ipython3",
   "version": "3.6.9"
  }
 },
 "nbformat": 4,
 "nbformat_minor": 5
}
