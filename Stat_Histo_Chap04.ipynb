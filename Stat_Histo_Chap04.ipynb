{
 "cells": [
  {
   "cell_type": "markdown",
   "id": "66b0d74a",
   "metadata": {},
   "source": [
    "# Histograms in image processing"
   ]
  },
  {
   "cell_type": "markdown",
   "id": "f320332c",
   "metadata": {},
   "source": [
    "## Chapter 4: Dynamics"
   ]
  },
  {
   "cell_type": "code",
   "execution_count": null,
   "id": "19a16a9a",
   "metadata": {},
   "outputs": [],
   "source": [
    "import numpy as np\n",
    "from glob import glob\n",
    "from matplotlib import pyplot as plt\n",
    "\n",
    "import cv2"
   ]
  },
  {
   "cell_type": "code",
   "execution_count": null,
   "id": "f93c41ad",
   "metadata": {},
   "outputs": [],
   "source": [
    "imgData = glob('../../../pics/imagingbook-images-de3/ch03/*.*')"
   ]
  },
  {
   "cell_type": "code",
   "execution_count": null,
   "id": "05bb1fc9",
   "metadata": {},
   "outputs": [],
   "source": [
    "imgA = cv2.imread(imgData[18])  # Dynamics medium\n",
    "imgB = cv2.imread(imgData[16]) # Dynamics too high\n",
    "imgC = cv2.imread(imgData[7]) # Dynamics too low\n",
    "\n",
    "grayImgA = cv2.cvtColor(imgA,cv2.COLOR_BGR2GRAY)\n",
    "grayImgB = cv2.cvtColor(imgB,cv2.COLOR_BGR2GRAY)\n",
    "grayImgC = cv2.cvtColor(imgC,cv2.COLOR_BGR2GRAY)\n",
    "\n",
    "valuesA, baseA = np.histogram(grayImgA.ravel(),256,[0,256])\n",
    "valuesB, baseB = np.histogram(grayImgB.ravel(),256,[0,256])\n",
    "valuesC, baseC = np.histogram(grayImgC.ravel(),256,[0,256])\n",
    "\n",
    "\n",
    "cumHistA = np.cumsum(valuesA)\n",
    "cumHistB = np.cumsum(valuesB)\n",
    "cumHistC = np.cumsum(valuesC)"
   ]
  },
  {
   "cell_type": "code",
   "execution_count": null,
   "id": "50cff7d0",
   "metadata": {},
   "outputs": [],
   "source": [
    "plt.subplots(figsize=(20,20))\n",
    "\n",
    "plt.subplot(3,3,1)\n",
    "plt.title('Dynamics low')\n",
    "plt.imshow(grayImgA, cmap='gray')\n",
    "\n",
    "plt.subplot(3,3,2)\n",
    "plt.title('Dynamics medium')\n",
    "plt.imshow(grayImgB, cmap='gray')\n",
    "\n",
    "plt.subplot(3,3,3)\n",
    "plt.title('Dynamics high')\n",
    "plt.imshow(grayImgC, cmap='gray')\n",
    "\n",
    "plt.subplot(3,3,4)\n",
    "plt.hist(grayImgA.ravel(),256,[0,256]);\n",
    "\n",
    "plt.subplot(3,3,5)\n",
    "plt.hist(grayImgB.ravel(),256,[0,256]);\n",
    "\n",
    "plt.subplot(3,3,6)\n",
    "plt.hist(grayImgC.ravel(),256,[0,256]);\n",
    "\n",
    "plt.subplot(3,3,7)\n",
    "plt.plot(baseA[:-1], cumHistA)\n",
    "\n",
    "plt.subplot(3,3,8)\n",
    "plt.plot(baseB[:-1], cumHistB)\n",
    "\n",
    "plt.subplot(3,3,9)\n",
    "plt.plot(baseC[:-1], cumHistC)"
   ]
  },
  {
   "cell_type": "code",
   "execution_count": null,
   "id": "2850c0d8",
   "metadata": {},
   "outputs": [],
   "source": []
  },
  {
   "cell_type": "code",
   "execution_count": null,
   "id": "e0875cae",
   "metadata": {},
   "outputs": [],
   "source": []
  }
 ],
 "metadata": {
  "kernelspec": {
   "display_name": "Python 3",
   "language": "python",
   "name": "python3"
  },
  "language_info": {
   "codemirror_mode": {
    "name": "ipython",
    "version": 3
   },
   "file_extension": ".py",
   "mimetype": "text/x-python",
   "name": "python",
   "nbconvert_exporter": "python",
   "pygments_lexer": "ipython3",
   "version": "3.6.9"
  }
 },
 "nbformat": 4,
 "nbformat_minor": 5
}
