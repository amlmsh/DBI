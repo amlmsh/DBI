{
 "cells": [
  {
   "cell_type": "markdown",
   "id": "9f395935",
   "metadata": {},
   "source": [
    "# Histograms in image processing"
   ]
  },
  {
   "cell_type": "markdown",
   "id": "e8262650",
   "metadata": {},
   "source": [
    "## Chapter 3: Exposure"
   ]
  },
  {
   "cell_type": "code",
   "execution_count": null,
   "id": "ed603b84",
   "metadata": {},
   "outputs": [],
   "source": [
    "import numpy as np\n",
    "from glob import glob\n",
    "from matplotlib import pyplot as plt\n",
    "\n",
    "import cv2"
   ]
  },
  {
   "cell_type": "code",
   "execution_count": null,
   "id": "ba6e11a0",
   "metadata": {},
   "outputs": [],
   "source": [
    "imgData = glob('../../../pics/imagingbook-images-de3/ch03/*.*')"
   ]
  },
  {
   "cell_type": "code",
   "execution_count": null,
   "id": "653029c7",
   "metadata": {},
   "outputs": [],
   "source": [
    "imgA = cv2.imread(imgData[15])  # exposure okay\n",
    "imgB = cv2.imread(imgData[23]) # exposure too high\n",
    "imgC = cv2.imread(imgData[1]) # exposure too low\n",
    "imgA = cv2.cvtColor(imgA,cv2.COLOR_BGR2GRAY)\n",
    "imgB = cv2.cvtColor(imgB,cv2.COLOR_BGR2GRAY)\n",
    "imgC = cv2.cvtColor(imgC,cv2.COLOR_BGR2GRAY)"
   ]
  },
  {
   "cell_type": "code",
   "execution_count": null,
   "id": "676d9666",
   "metadata": {},
   "outputs": [],
   "source": [
    "plt.subplots(figsize=(20,20))\n",
    "\n",
    "plt.subplot(2,3,1)\n",
    "plt.title('Exposure normal')\n",
    "plt.imshow(imgA, cmap='gray')\n",
    "\n",
    "plt.subplot(2,3,2)\n",
    "plt.title('Exposure too high')\n",
    "plt.imshow(imgB, cmap='gray')\n",
    "\n",
    "plt.subplot(2,3,3)\n",
    "plt.title('Exposure too low')\n",
    "plt.imshow(imgC, cmap='gray')\n",
    "\n",
    "plt.subplot(2,3,4)\n",
    "plt.hist(imgA.ravel(),256,[0,256]);\n",
    "\n",
    "plt.subplot(2,3,5)\n",
    "plt.hist(imgB.ravel(),256,[0,256]);\n",
    "\n",
    "plt.subplot(2,3,6)\n",
    "plt.hist(imgC.ravel(),256,[0,256]);"
   ]
  },
  {
   "cell_type": "code",
   "execution_count": null,
   "id": "f7168b9d",
   "metadata": {},
   "outputs": [],
   "source": [
    "valuesA, baseA = np.histogram(imgA.ravel(),256,[0,256])\n",
    "valuesB, baseB = np.histogram(imgB.ravel(),256,[0,256])\n",
    "valuesC, baseC = np.histogram(imgC.ravel(),256,[0,256])"
   ]
  },
  {
   "cell_type": "code",
   "execution_count": null,
   "id": "a28ce0fa",
   "metadata": {},
   "outputs": [],
   "source": [
    "cumHistA = np.cumsum(valuesA)\n",
    "cumHistB = np.cumsum(valuesB)\n",
    "cumHistC = np.cumsum(valuesC)"
   ]
  },
  {
   "cell_type": "code",
   "execution_count": null,
   "id": "6fe54a3e",
   "metadata": {},
   "outputs": [],
   "source": [
    "plt.plot(baseA[:-1], cumHistA)"
   ]
  },
  {
   "cell_type": "code",
   "execution_count": null,
   "id": "adad9033",
   "metadata": {},
   "outputs": [],
   "source": [
    "plt.subplots(figsize=(20,20))\n",
    "\n",
    "plt.subplot(2,3,1)\n",
    "plt.title('Exposure normal')\n",
    "plt.hist(imgA.ravel(),256,[0,256]);\n",
    "\n",
    "plt.subplot(2,3,2)\n",
    "plt.title('Exposure too high')\n",
    "plt.hist(imgB.ravel(),256,[0,256]);\n",
    "\n",
    "plt.subplot(2,3,3)\n",
    "plt.title('Exposure too low')\n",
    "plt.hist(imgC.ravel(),256,[0,256]);\n",
    "\n",
    "plt.subplot(2,3,4)\n",
    "plt.plot(baseA[:-1], cumHistA)\n",
    "\n",
    "plt.subplot(2,3,5)\n",
    "plt.plot(baseB[:-1], cumHistB)\n",
    "\n",
    "plt.subplot(2,3,6)\n",
    "plt.plot(baseC[:-1], cumHistC)"
   ]
  },
  {
   "cell_type": "code",
   "execution_count": null,
   "id": "85dfe12c",
   "metadata": {},
   "outputs": [],
   "source": [
    "grayImgX = np.zeros((100,100),np.uint8)\n",
    "grayImgY = np.zeros((100,100),np.uint8)\n",
    "grayImgZ = np.zeros((100,100),np.uint8)        "
   ]
  },
  {
   "cell_type": "code",
   "execution_count": null,
   "id": "95178f29",
   "metadata": {},
   "outputs": [],
   "source": [
    "import random \n",
    "\n",
    "rows,cols = grayImgX.shape\n",
    "for i in range(rows):\n",
    "    for j in range(cols):\n",
    "        grayImgX[i,j] = random.randint(0,255)\n",
    "        grayImgY[i,j] = random.randint(192,255)\n",
    "        grayImgZ[i,j] = random.randint(0,64)\n",
    "    \n",
    "for i in range(0,rows,2):\n",
    "    for j in range(0,cols,2):\n",
    "        idxW = random.randint(0,99)\n",
    "        idxH = random.randint(0,99)\n",
    "        grayImgY[idxW,idxH] = random.randint(0,255)\n",
    "        grayImgZ[idxW,idxH] = random.randint(0,255)\n",
    "\n",
    "        \n",
    "valuesX, baseX = np.histogram(grayImgX.ravel(),256,[0,256])\n",
    "valuesY, baseY = np.histogram(grayImgY.ravel(),256,[0,256])\n",
    "valuesZ, baseZ = np.histogram(grayImgZ.ravel(),256,[0,256])\n",
    "\n",
    "\n",
    "cumHistX = np.cumsum(valuesX)\n",
    "cumHistY = np.cumsum(valuesY)\n",
    "cumHistZ = np.cumsum(valuesZ)\n"
   ]
  },
  {
   "cell_type": "code",
   "execution_count": null,
   "id": "df7a141a",
   "metadata": {},
   "outputs": [],
   "source": [
    "plt.subplots(figsize=(20,20))\n",
    "\n",
    "plt.subplot(3,3,1)\n",
    "plt.title('Exposure normal')\n",
    "plt.imshow(grayImgX, cmap='gray')\n",
    "\n",
    "plt.subplot(3,3,2)\n",
    "plt.title('Exposure too high')\n",
    "plt.imshow(grayImgY, cmap='gray')\n",
    "\n",
    "plt.subplot(3,3,3)\n",
    "plt.title('Exposure too low')\n",
    "plt.imshow(grayImgZ, cmap='gray')\n",
    "\n",
    "plt.subplot(3,3,4)\n",
    "plt.hist(grayImgX.ravel(),256,[0,256]);\n",
    "\n",
    "plt.subplot(3,3,5)\n",
    "plt.hist(grayImgY.ravel(),256,[0,256]);\n",
    "\n",
    "plt.subplot(3,3,6)\n",
    "plt.hist(grayImgZ.ravel(),256,[0,256]);\n",
    "\n",
    "plt.subplot(3,3,7)\n",
    "plt.plot(baseX[:-1], cumHistX)\n",
    "\n",
    "plt.subplot(3,3,8)\n",
    "plt.plot(baseY[:-1], cumHistY)\n",
    "\n",
    "plt.subplot(3,3,9)\n",
    "plt.plot(baseZ[:-1], cumHistZ)"
   ]
  },
  {
   "cell_type": "code",
   "execution_count": null,
   "id": "3ee87f63",
   "metadata": {},
   "outputs": [],
   "source": []
  },
  {
   "cell_type": "code",
   "execution_count": null,
   "id": "fb9db266",
   "metadata": {},
   "outputs": [],
   "source": []
  }
 ],
 "metadata": {
  "kernelspec": {
   "display_name": "Python 3",
   "language": "python",
   "name": "python3"
  },
  "language_info": {
   "codemirror_mode": {
    "name": "ipython",
    "version": 3
   },
   "file_extension": ".py",
   "mimetype": "text/x-python",
   "name": "python",
   "nbconvert_exporter": "python",
   "pygments_lexer": "ipython3",
   "version": "3.6.9"
  }
 },
 "nbformat": 4,
 "nbformat_minor": 5
}
