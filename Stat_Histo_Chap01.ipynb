{
 "cells": [
  {
   "cell_type": "markdown",
   "id": "4fef0380",
   "metadata": {},
   "source": [
    "# Histograms in image processing"
   ]
  },
  {
   "cell_type": "markdown",
   "id": "c09d7b24",
   "metadata": {},
   "source": [
    "## Chapter 1: Create and plot a histogram"
   ]
  },
  {
   "cell_type": "code",
   "execution_count": null,
   "id": "51cbcd38",
   "metadata": {},
   "outputs": [],
   "source": [
    "import numpy as np\n",
    "from glob import glob\n",
    "from matplotlib import pyplot as plt\n",
    "\n",
    "import cv2"
   ]
  },
  {
   "cell_type": "code",
   "execution_count": null,
   "id": "d4128f60",
   "metadata": {},
   "outputs": [],
   "source": [
    "imgData = glob('../../../pics/imagingbook-images-de3/ch03/*.*')"
   ]
  },
  {
   "cell_type": "code",
   "execution_count": null,
   "id": "23949f33",
   "metadata": {},
   "outputs": [],
   "source": [
    "image = cv2.imread(imgData[2])"
   ]
  },
  {
   "cell_type": "code",
   "execution_count": null,
   "id": "196ea48d",
   "metadata": {},
   "outputs": [],
   "source": [
    "plt.imshow(image)"
   ]
  },
  {
   "cell_type": "code",
   "execution_count": null,
   "id": "14dbf7b5",
   "metadata": {},
   "outputs": [],
   "source": [
    "image"
   ]
  },
  {
   "cell_type": "code",
   "execution_count": null,
   "id": "90076e85",
   "metadata": {},
   "outputs": [],
   "source": [
    "imageGray = cv2.cvtColor(image, cv2.COLOR_BGR2GRAY)"
   ]
  },
  {
   "cell_type": "code",
   "execution_count": null,
   "id": "04504b95",
   "metadata": {},
   "outputs": [],
   "source": [
    "imageGray.shape"
   ]
  },
  {
   "cell_type": "code",
   "execution_count": null,
   "id": "f44d6c66",
   "metadata": {},
   "outputs": [],
   "source": [
    "plt.imshow(imageGray, cmap='gray')"
   ]
  },
  {
   "cell_type": "code",
   "execution_count": null,
   "id": "82a83aec",
   "metadata": {},
   "outputs": [],
   "source": [
    "histo = np.zeros(256,np.uint64)"
   ]
  },
  {
   "cell_type": "code",
   "execution_count": null,
   "id": "68d2eb84",
   "metadata": {},
   "outputs": [],
   "source": [
    "rows, cols = imageGray.shape\n",
    "for i in range(rows):\n",
    "    for j in range(cols):\n",
    "        hIdx = imageGray[i,j]\n",
    "        histo[hIdx] = histo[hIdx] + 1 "
   ]
  },
  {
   "cell_type": "code",
   "execution_count": null,
   "id": "14b6bae7",
   "metadata": {},
   "outputs": [],
   "source": [
    "plt.plot(histo)"
   ]
  },
  {
   "cell_type": "code",
   "execution_count": null,
   "id": "7c578c64",
   "metadata": {},
   "outputs": [],
   "source": [
    "histoPlt = plt.hist(imageGray.ravel(),256,[0,256])"
   ]
  },
  {
   "cell_type": "code",
   "execution_count": null,
   "id": "da5d6cba",
   "metadata": {},
   "outputs": [],
   "source": [
    "imageGray"
   ]
  },
  {
   "cell_type": "code",
   "execution_count": null,
   "id": "ff23e381",
   "metadata": {},
   "outputs": [],
   "source": [
    "imageGray.ravel()"
   ]
  },
  {
   "cell_type": "code",
   "execution_count": null,
   "id": "03fd2fa7",
   "metadata": {},
   "outputs": [],
   "source": []
  }
 ],
 "metadata": {
  "kernelspec": {
   "display_name": "Python 3",
   "language": "python",
   "name": "python3"
  },
  "language_info": {
   "codemirror_mode": {
    "name": "ipython",
    "version": 3
   },
   "file_extension": ".py",
   "mimetype": "text/x-python",
   "name": "python",
   "nbconvert_exporter": "python",
   "pygments_lexer": "ipython3",
   "version": "3.6.9"
  }
 },
 "nbformat": 4,
 "nbformat_minor": 5
}
