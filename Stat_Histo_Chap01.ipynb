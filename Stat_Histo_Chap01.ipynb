{
 "cells": [
  {
   "cell_type": "markdown",
   "id": "95b27018",
   "metadata": {},
   "source": [
    "# Histograms in image processing"
   ]
  },
  {
   "cell_type": "markdown",
   "id": "e71b5b54",
   "metadata": {},
   "source": [
    "## Chapter 1: Create and plot a histogram"
   ]
  },
  {
   "cell_type": "code",
   "execution_count": null,
   "id": "7ad12b58",
   "metadata": {},
   "outputs": [],
   "source": [
    "import numpy as np\n",
    "from glob import glob\n",
    "from matplotlib import pyplot as plt\n",
    "\n",
    "import cv2"
   ]
  },
  {
   "cell_type": "code",
   "execution_count": null,
   "id": "a1559999",
   "metadata": {},
   "outputs": [],
   "source": [
    "imgData = glob('../../../pics/imagingbook-images-de3/ch03/*.*')"
   ]
  },
  {
   "cell_type": "code",
   "execution_count": null,
   "id": "ec1ed818",
   "metadata": {},
   "outputs": [],
   "source": [
    "image = cv2.imread(imgData[2])"
   ]
  },
  {
   "cell_type": "code",
   "execution_count": null,
   "id": "25701598",
   "metadata": {},
   "outputs": [],
   "source": [
    "plt.imshow(image)"
   ]
  },
  {
   "cell_type": "code",
   "execution_count": null,
   "id": "3f9def37",
   "metadata": {},
   "outputs": [],
   "source": [
    "image"
   ]
  },
  {
   "cell_type": "code",
   "execution_count": null,
   "id": "d53bf48d",
   "metadata": {},
   "outputs": [],
   "source": [
    "imageGray = cv2.cvtColor(image, cv2.COLOR_BGR2GRAY)"
   ]
  },
  {
   "cell_type": "code",
   "execution_count": null,
   "id": "2b589a8a",
   "metadata": {},
   "outputs": [],
   "source": [
    "imageGray.shape"
   ]
  },
  {
   "cell_type": "code",
   "execution_count": null,
   "id": "f3fe6d1b",
   "metadata": {},
   "outputs": [],
   "source": [
    "plt.imshow(imageGray, cmap='gray')"
   ]
  },
  {
   "cell_type": "code",
   "execution_count": null,
   "id": "c8a69d66",
   "metadata": {},
   "outputs": [],
   "source": [
    "histo = np.zeros(256,np.uint64)"
   ]
  },
  {
   "cell_type": "code",
   "execution_count": null,
   "id": "c825c073",
   "metadata": {},
   "outputs": [],
   "source": [
    "rows, cols = imageGray.shape\n",
    "for i in range(rows):\n",
    "    for j in range(cols):\n",
    "        hIdx = imageGray[i,j]\n",
    "        histo[hIdx] = histo[hIdx] + 1 "
   ]
  },
  {
   "cell_type": "code",
   "execution_count": null,
   "id": "aafc9f25",
   "metadata": {},
   "outputs": [],
   "source": [
    "plt.plot(histo)"
   ]
  },
  {
   "cell_type": "code",
   "execution_count": null,
   "id": "a0a0bc02",
   "metadata": {},
   "outputs": [],
   "source": [
    "histoPlt = plt.hist(imageGray.ravel(),256,[0,256])"
   ]
  },
  {
   "cell_type": "code",
   "execution_count": null,
   "id": "20d4173c",
   "metadata": {},
   "outputs": [],
   "source": [
    "imageGray"
   ]
  },
  {
   "cell_type": "code",
   "execution_count": null,
   "id": "4f9d211e",
   "metadata": {},
   "outputs": [],
   "source": [
    "imageGray.ravel()"
   ]
  },
  {
   "cell_type": "code",
   "execution_count": null,
   "id": "4de3a9af",
   "metadata": {},
   "outputs": [],
   "source": []
  }
 ],
 "metadata": {
  "kernelspec": {
   "display_name": "Python 3",
   "language": "python",
   "name": "python3"
  },
  "language_info": {
   "codemirror_mode": {
    "name": "ipython",
    "version": 3
   },
   "file_extension": ".py",
   "mimetype": "text/x-python",
   "name": "python",
   "nbconvert_exporter": "python",
   "pygments_lexer": "ipython3",
   "version": "3.6.9"
  }
 },
 "nbformat": 4,
 "nbformat_minor": 5
}
