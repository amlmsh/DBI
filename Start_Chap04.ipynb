{
 "cells": [
  {
   "cell_type": "markdown",
   "id": "d6a69ba9",
   "metadata": {},
   "source": [
    "# Basics"
   ]
  },
  {
   "cell_type": "markdown",
   "id": "48ab8ce5",
   "metadata": {},
   "source": [
    "## Chapter 4: Resize and save image data"
   ]
  },
  {
   "cell_type": "code",
   "execution_count": null,
   "id": "c42e4ca3",
   "metadata": {},
   "outputs": [],
   "source": [
    "import numpy as np\n",
    "from glob import glob\n",
    "from matplotlib import pyplot as plt\n",
    "\n",
    "import cv2"
   ]
  },
  {
   "cell_type": "code",
   "execution_count": null,
   "id": "d4f11347",
   "metadata": {},
   "outputs": [],
   "source": [
    "import random  \n",
    "height = 48 \n",
    "width  = 64\n",
    "colorImg = np.zeros((height,width,3),np.uint8)\n",
    "rows,cols,c = colorImg.shape\n",
    "for i in range(rows):\n",
    "    for j in range(cols):\n",
    "        colorImg[i,j,0] = random.randint(0,255)\n",
    "        colorImg[i,j,1] = random.randint(0,255)\n",
    "        colorImg[i,j,2] = random.randint(0,255)\n"
   ]
  },
  {
   "cell_type": "code",
   "execution_count": null,
   "id": "10a43b97",
   "metadata": {},
   "outputs": [],
   "source": [
    "colorImg.shape"
   ]
  },
  {
   "cell_type": "code",
   "execution_count": null,
   "id": "be260353",
   "metadata": {},
   "outputs": [],
   "source": [
    "plt.imshow(colorImg)"
   ]
  },
  {
   "cell_type": "code",
   "execution_count": null,
   "id": "b3c3ddf0",
   "metadata": {},
   "outputs": [],
   "source": [
    "reszImg1 = cv2.resize(colorImg, (640,480)) #(width,height)!!!"
   ]
  },
  {
   "cell_type": "code",
   "execution_count": null,
   "id": "50843ef9",
   "metadata": {},
   "outputs": [],
   "source": [
    "reszImg1.shape"
   ]
  },
  {
   "cell_type": "code",
   "execution_count": null,
   "id": "d6cc096f",
   "metadata": {},
   "outputs": [],
   "source": [
    "plt.imshow(reszImg1)"
   ]
  },
  {
   "cell_type": "code",
   "execution_count": null,
   "id": "bcf48544",
   "metadata": {},
   "outputs": [],
   "source": [
    "reszImg2 = cv2.resize(colorImg, (640,480),interpolation = cv2.INTER_NEAREST)"
   ]
  },
  {
   "cell_type": "code",
   "execution_count": null,
   "id": "11ea8315",
   "metadata": {},
   "outputs": [],
   "source": [
    "plt.imshow(reszImg2)"
   ]
  },
  {
   "cell_type": "code",
   "execution_count": null,
   "id": "2cd836cd",
   "metadata": {},
   "outputs": [],
   "source": [
    "reszImg3 = cv2.resize(colorImg, (640,480),interpolation = cv2.INTER_LANCZOS4)"
   ]
  },
  {
   "cell_type": "code",
   "execution_count": null,
   "id": "eea79153",
   "metadata": {},
   "outputs": [],
   "source": [
    "plt.imshow(reszImg3)"
   ]
  },
  {
   "cell_type": "markdown",
   "id": "42508a67",
   "metadata": {},
   "source": [
    "<b> Write image data into a file</b>"
   ]
  },
  {
   "cell_type": "code",
   "execution_count": null,
   "id": "a37e5b17",
   "metadata": {},
   "outputs": [],
   "source": [
    "cv2.imwrite('../../../test.png',reszImg1)\n",
    "cv2.imwrite('../../../test.tif',reszImg2)\n",
    "cv2.imwrite('../../../test.jpg',reszImg3)"
   ]
  },
  {
   "cell_type": "code",
   "execution_count": null,
   "id": "0c1785a1",
   "metadata": {},
   "outputs": [],
   "source": [
    "readImg1 = cv2.imread('../../../test.png')"
   ]
  },
  {
   "cell_type": "code",
   "execution_count": null,
   "id": "9f7b2ff8",
   "metadata": {},
   "outputs": [],
   "source": [
    "plt.imshow(readImg1)"
   ]
  },
  {
   "cell_type": "code",
   "execution_count": null,
   "id": "2d615726",
   "metadata": {},
   "outputs": [],
   "source": [
    "readImg2 = cv2.imread('../../../test.tif')"
   ]
  },
  {
   "cell_type": "code",
   "execution_count": null,
   "id": "68927ec6",
   "metadata": {},
   "outputs": [],
   "source": [
    "plt.imshow(readImg2)"
   ]
  },
  {
   "cell_type": "code",
   "execution_count": null,
   "id": "cc315adc",
   "metadata": {},
   "outputs": [],
   "source": [
    "readImg3 = cv2.imread('../../../test.jpg')"
   ]
  },
  {
   "cell_type": "code",
   "execution_count": null,
   "id": "1485d1a2",
   "metadata": {},
   "outputs": [],
   "source": [
    "plt.imshow(readImg3)"
   ]
  },
  {
   "cell_type": "code",
   "execution_count": null,
   "id": "414f68e0",
   "metadata": {},
   "outputs": [],
   "source": []
  }
 ],
 "metadata": {
  "kernelspec": {
   "display_name": "Python 3",
   "language": "python",
   "name": "python3"
  },
  "language_info": {
   "codemirror_mode": {
    "name": "ipython",
    "version": 3
   },
   "file_extension": ".py",
   "mimetype": "text/x-python",
   "name": "python",
   "nbconvert_exporter": "python",
   "pygments_lexer": "ipython3",
   "version": "3.6.9"
  }
 },
 "nbformat": 4,
 "nbformat_minor": 5
}
