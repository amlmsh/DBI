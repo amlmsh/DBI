{
 "cells": [
  {
   "cell_type": "markdown",
   "id": "f3e171ea",
   "metadata": {},
   "source": [
    "# Histograms in image processing"
   ]
  },
  {
   "cell_type": "markdown",
   "id": "a3af9c31",
   "metadata": {},
   "source": [
    "## Chapter 2: Contrast"
   ]
  },
  {
   "cell_type": "code",
   "execution_count": null,
   "id": "780ae65c",
   "metadata": {},
   "outputs": [],
   "source": [
    "import numpy as np\n",
    "from glob import glob\n",
    "from matplotlib import pyplot as plt\n",
    "\n",
    "import cv2"
   ]
  },
  {
   "cell_type": "code",
   "execution_count": null,
   "id": "85bfabb7",
   "metadata": {},
   "outputs": [],
   "source": [
    "imgData = glob('../../../pics/imagingbook-images-de3/ch03/*.*')"
   ]
  },
  {
   "cell_type": "code",
   "execution_count": null,
   "id": "b4f5c028",
   "metadata": {},
   "outputs": [],
   "source": [
    "imgA = cv2.imread(imgData[4])  # contrast normal\n",
    "imgB = cv2.imread(imgData[25]) # contradt too high\n",
    "imgC = cv2.imread(imgData[14]) # constrast too small\n",
    "imgA = cv2.cvtColor(imgA,cv2.COLOR_BGR2GRAY)\n",
    "imgB = cv2.cvtColor(imgB,cv2.COLOR_BGR2GRAY)\n",
    "imgC = cv2.cvtColor(imgC,cv2.COLOR_BGR2GRAY)"
   ]
  },
  {
   "cell_type": "code",
   "execution_count": null,
   "id": "bf97b940",
   "metadata": {},
   "outputs": [],
   "source": [
    "fig, axs = plt.subplots(1,3)\n",
    "\n",
    "axs[0].imshow(imgA, cmap='gray')\n",
    "axs[1].imshow(imgB, cmap='gray')\n",
    "axs[2].imshow(imgC, cmap='gray')"
   ]
  },
  {
   "cell_type": "code",
   "execution_count": null,
   "id": "bc9ce100",
   "metadata": {},
   "outputs": [],
   "source": [
    "fig, axs = plt.subplots(1,3,figsize=(20,20))\n",
    "\n",
    "axs[0].imshow(imgA, cmap='gray')\n",
    "axs[1].imshow(imgB, cmap='gray')\n",
    "axs[2].imshow(imgC, cmap='gray')"
   ]
  },
  {
   "cell_type": "code",
   "execution_count": null,
   "id": "09b59e61",
   "metadata": {},
   "outputs": [],
   "source": [
    "histoPltA = plt.hist(imgA.ravel(),256,[0,256])"
   ]
  },
  {
   "cell_type": "code",
   "execution_count": null,
   "id": "6d1a1c31",
   "metadata": {},
   "outputs": [],
   "source": [
    "histoPltB = plt.hist(imgB.ravel(),256,[0,256])"
   ]
  },
  {
   "cell_type": "code",
   "execution_count": null,
   "id": "67e3ccca",
   "metadata": {},
   "outputs": [],
   "source": [
    "histoPltC = plt.hist(imgC.ravel(),256,[0,256])"
   ]
  },
  {
   "cell_type": "code",
   "execution_count": null,
   "id": "b40331b6",
   "metadata": {},
   "outputs": [],
   "source": [
    "plt.subplots(figsize=(20,20))\n",
    "\n",
    "plt.subplot(2,3,1)\n",
    "plt.title('Contrast normal')\n",
    "plt.imshow(imgA, cmap='gray')\n",
    "\n",
    "plt.subplot(2,3,2)\n",
    "plt.title('Contrast too high')\n",
    "plt.imshow(imgB, cmap='gray')\n",
    "\n",
    "plt.subplot(2,3,3)\n",
    "plt.title('Contrast too small')\n",
    "plt.imshow(imgC, cmap='gray')\n",
    "\n",
    "plt.subplot(2,3,4)\n",
    "plt.hist(imgA.ravel(),256,[0,256]);\n",
    "\n",
    "plt.subplot(2,3,5)\n",
    "plt.hist(imgB.ravel(),256,[0,256]);\n",
    "\n",
    "plt.subplot(2,3,6)\n",
    "plt.hist(imgC.ravel(),256,[0,256]);"
   ]
  },
  {
   "cell_type": "code",
   "execution_count": null,
   "id": "02ba9b6a",
   "metadata": {},
   "outputs": [],
   "source": []
  }
 ],
 "metadata": {
  "kernelspec": {
   "display_name": "Python 3",
   "language": "python",
   "name": "python3"
  },
  "language_info": {
   "codemirror_mode": {
    "name": "ipython",
    "version": 3
   },
   "file_extension": ".py",
   "mimetype": "text/x-python",
   "name": "python",
   "nbconvert_exporter": "python",
   "pygments_lexer": "ipython3",
   "version": "3.6.9"
  }
 },
 "nbformat": 4,
 "nbformat_minor": 5
}
