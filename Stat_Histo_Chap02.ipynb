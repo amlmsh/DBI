{
 "cells": [
  {
   "cell_type": "markdown",
   "id": "262e80fa",
   "metadata": {},
   "source": [
    "# Histograms in image processing"
   ]
  },
  {
   "cell_type": "markdown",
   "id": "719f4ac1",
   "metadata": {},
   "source": [
    "## Chapter 2: Contrast"
   ]
  },
  {
   "cell_type": "code",
   "execution_count": null,
   "id": "b564b86a",
   "metadata": {},
   "outputs": [],
   "source": [
    "import numpy as np\n",
    "from glob import glob\n",
    "from matplotlib import pyplot as plt\n",
    "\n",
    "import cv2"
   ]
  },
  {
   "cell_type": "code",
   "execution_count": null,
   "id": "0f1d07b1",
   "metadata": {},
   "outputs": [],
   "source": [
    "imgData = glob('../../../pics/imagingbook-images-de3/ch03/*.*')"
   ]
  },
  {
   "cell_type": "code",
   "execution_count": null,
   "id": "eea0da4c",
   "metadata": {},
   "outputs": [],
   "source": [
    "imgA = cv2.imread(imgData[4])  # contrast normal\n",
    "imgB = cv2.imread(imgData[25]) # contradt too high\n",
    "imgC = cv2.imread(imgData[14]) # constrast too small\n",
    "imgA = cv2.cvtColor(imgA,cv2.COLOR_BGR2GRAY)\n",
    "imgB = cv2.cvtColor(imgB,cv2.COLOR_BGR2GRAY)\n",
    "imgC = cv2.cvtColor(imgC,cv2.COLOR_BGR2GRAY)"
   ]
  },
  {
   "cell_type": "code",
   "execution_count": null,
   "id": "e2516147",
   "metadata": {},
   "outputs": [],
   "source": [
    "fig, axs = plt.subplots(1,3)\n",
    "\n",
    "axs[0].imshow(imgA, cmap='gray')\n",
    "axs[1].imshow(imgB, cmap='gray')\n",
    "axs[2].imshow(imgC, cmap='gray')"
   ]
  },
  {
   "cell_type": "code",
   "execution_count": null,
   "id": "2ef3c80c",
   "metadata": {},
   "outputs": [],
   "source": [
    "fig, axs = plt.subplots(1,3,figsize=(20,20))\n",
    "\n",
    "axs[0].imshow(imgA, cmap='gray')\n",
    "axs[1].imshow(imgB, cmap='gray')\n",
    "axs[2].imshow(imgC, cmap='gray')"
   ]
  },
  {
   "cell_type": "code",
   "execution_count": null,
   "id": "b8e69a05",
   "metadata": {},
   "outputs": [],
   "source": [
    "histoPltA = plt.hist(imgA.ravel(),256,[0,256])"
   ]
  },
  {
   "cell_type": "code",
   "execution_count": null,
   "id": "1319a011",
   "metadata": {},
   "outputs": [],
   "source": [
    "histoPltB = plt.hist(imgB.ravel(),256,[0,256])"
   ]
  },
  {
   "cell_type": "code",
   "execution_count": null,
   "id": "6fd7e786",
   "metadata": {},
   "outputs": [],
   "source": [
    "histoPltC = plt.hist(imgC.ravel(),256,[0,256])"
   ]
  },
  {
   "cell_type": "code",
   "execution_count": null,
   "id": "7cff672e",
   "metadata": {},
   "outputs": [],
   "source": [
    "plt.subplots(figsize=(20,20))\n",
    "\n",
    "plt.subplot(2,3,1)\n",
    "plt.title('Contrast normal')\n",
    "plt.imshow(imgA, cmap='gray')\n",
    "\n",
    "plt.subplot(2,3,2)\n",
    "plt.title('Contrast too high')\n",
    "plt.imshow(imgB, cmap='gray')\n",
    "\n",
    "plt.subplot(2,3,3)\n",
    "plt.title('Contrast too small')\n",
    "plt.imshow(imgC, cmap='gray')\n",
    "\n",
    "plt.subplot(2,3,4)\n",
    "plt.hist(imgA.ravel(),256,[0,256]);\n",
    "\n",
    "plt.subplot(2,3,5)\n",
    "plt.hist(imgB.ravel(),256,[0,256]);\n",
    "\n",
    "plt.subplot(2,3,6)\n",
    "plt.hist(imgC.ravel(),256,[0,256]);"
   ]
  },
  {
   "cell_type": "code",
   "execution_count": null,
   "id": "20f5aeb7",
   "metadata": {},
   "outputs": [],
   "source": []
  }
 ],
 "metadata": {
  "kernelspec": {
   "display_name": "Python 3",
   "language": "python",
   "name": "python3"
  },
  "language_info": {
   "codemirror_mode": {
    "name": "ipython",
    "version": 3
   },
   "file_extension": ".py",
   "mimetype": "text/x-python",
   "name": "python",
   "nbconvert_exporter": "python",
   "pygments_lexer": "ipython3",
   "version": "3.6.9"
  }
 },
 "nbformat": 4,
 "nbformat_minor": 5
}
