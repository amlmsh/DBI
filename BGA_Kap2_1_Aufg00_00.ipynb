{
 "cells": [
  {
   "cell_type": "markdown",
   "id": "83c44f0d",
   "metadata": {},
   "source": [
    "# BGA I"
   ]
  },
  {
   "cell_type": "markdown",
   "id": "f6c02ed8",
   "metadata": {},
   "source": [
    "## Übung Kap. 2.1 (Optik)"
   ]
  },
  {
   "cell_type": "markdown",
   "id": "465e6c25",
   "metadata": {},
   "source": [
    "### Aufg. 00  - Berechnung des Fluchtpunktes"
   ]
  },
  {
   "cell_type": "markdown",
   "id": "1fd199be",
   "metadata": {},
   "source": [
    "Gegeben sind zwei Geraden $g_1$ und $g_2$ jeweils in Parameterform $\\vec{x} = \\vec{p} + s\\cdot\\vec{u}$.\n",
    "$g_1$ ist gegeben durch Ortsvektor $\\vec{p_1} = (x_{p1},y_{p1},z_{p1})$ und Richtungsvektor $\\vec{u} = (x_u,y_u,z_u)$. $g_2$ ist gegeben durch Ortsvektor $\\vec{p_2} = (x_{p2},y_{p2},z_{p2})$ und den gleichen Richtungsvektor $\\vec{u}$.\n",
    "Die Bildebene hat den Abstand $a$ (Abstand zwischen dem Loch und den Bildebene entlang der optischen Achse).\n",
    "\n",
    "1.) Beschreiben Sie den Lösungsweg analytisch.\n",
    "\n",
    "2.) Schreiben Sie eine Routine zur Berechung des Fluchtpunkts in der Bildebene für beliebige Gerade definiert durch einen Richtungsvektor $\\vec{u}$, zwei Ortsvektoren $\\vec{p_1}$ und $\\vec{p_2}$ und den Abstand $a$.\n"
   ]
  },
  {
   "cell_type": "code",
   "execution_count": null,
   "id": "3c85b9ee",
   "metadata": {},
   "outputs": [],
   "source": [
    "from IPython.display import Image\n",
    "Image(\"./material/Aufg00_Fluchtpunkt.jpg\")"
   ]
  },
  {
   "cell_type": "markdown",
   "id": "16d3afdc",
   "metadata": {},
   "source": [
    "### Eine mögliche Lösung"
   ]
  },
  {
   "cell_type": "code",
   "execution_count": null,
   "id": "afc46832",
   "metadata": {},
   "outputs": [],
   "source": []
  }
 ],
 "metadata": {
  "kernelspec": {
   "display_name": "Python 3",
   "language": "python",
   "name": "python3"
  },
  "language_info": {
   "codemirror_mode": {
    "name": "ipython",
    "version": 3
   },
   "file_extension": ".py",
   "mimetype": "text/x-python",
   "name": "python",
   "nbconvert_exporter": "python",
   "pygments_lexer": "ipython3",
   "version": "3.6.9"
  }
 },
 "nbformat": 4,
 "nbformat_minor": 5
}
