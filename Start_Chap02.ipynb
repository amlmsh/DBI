{
 "cells": [
  {
   "cell_type": "markdown",
   "id": "4469a9cb",
   "metadata": {},
   "source": [
    "# Chapter 2: Color image data and color maps"
   ]
  },
  {
   "cell_type": "code",
   "execution_count": null,
   "id": "e38da290",
   "metadata": {},
   "outputs": [],
   "source": [
    "import numpy as np\n",
    "from glob import glob\n",
    "from matplotlib import pyplot as plt\n",
    "\n",
    "import cv2"
   ]
  },
  {
   "cell_type": "code",
   "execution_count": null,
   "id": "89033e9f",
   "metadata": {},
   "outputs": [],
   "source": [
    "imgData = glob('../../../pics/imagingbook-images-de3/ch03/*.*')"
   ]
  },
  {
   "cell_type": "code",
   "execution_count": null,
   "id": "3bbc3038",
   "metadata": {},
   "outputs": [],
   "source": [
    "image = cv2.imread(imgData[6])"
   ]
  },
  {
   "cell_type": "code",
   "execution_count": null,
   "id": "8dcebfe3",
   "metadata": {},
   "outputs": [],
   "source": [
    "plt.imshow(image)"
   ]
  },
  {
   "cell_type": "markdown",
   "id": "783cfb7f",
   "metadata": {},
   "source": [
    "<b>1: the 3 dimensions of color image data</b>.<br>\n",
    "A color image is organised in three  2-dimensional arrays. The three array are also called channels. Each array / channels represents a specific color information. E.g. the red, blue or green part of the colors."
   ]
  },
  {
   "cell_type": "code",
   "execution_count": null,
   "id": "68df3df6",
   "metadata": {},
   "outputs": [],
   "source": [
    "image.shape"
   ]
  },
  {
   "cell_type": "code",
   "execution_count": null,
   "id": "bbd76f10",
   "metadata": {},
   "outputs": [],
   "source": [
    "image[:,:,0]"
   ]
  },
  {
   "cell_type": "code",
   "execution_count": null,
   "id": "88348258",
   "metadata": {},
   "outputs": [],
   "source": [
    "image[:,:,1]"
   ]
  },
  {
   "cell_type": "code",
   "execution_count": null,
   "id": "b2f673c5",
   "metadata": {},
   "outputs": [],
   "source": [
    "image[:,:,2]"
   ]
  },
  {
   "cell_type": "code",
   "execution_count": null,
   "id": "904e45dd",
   "metadata": {},
   "outputs": [],
   "source": [
    "plt.imshow(image[:,:,0],cmap='gray')"
   ]
  },
  {
   "cell_type": "code",
   "execution_count": null,
   "id": "2192675e",
   "metadata": {},
   "outputs": [],
   "source": [
    "plt.imshow(image[:,:,1],cmap='gray')"
   ]
  },
  {
   "cell_type": "code",
   "execution_count": null,
   "id": "e5e9c1d5",
   "metadata": {},
   "outputs": [],
   "source": [
    "plt.imshow(image[:,:,2],cmap='gray')"
   ]
  },
  {
   "cell_type": "markdown",
   "id": "06cc343c",
   "metadata": {},
   "source": [
    "<b>2. Why is the image of the fruits kind of \"blueish\"?</b><br>"
   ]
  },
  {
   "cell_type": "markdown",
   "id": "960212d4",
   "metadata": {},
   "source": [
    "<b>Answer:</b> We read the image with openCV. openCV organises the color channels in the GBR order. The python plots expect a RGB order. So, the colors are mixed up.\n",
    "\n",
    "<b>Solution:</b> We create a new image (variable <em>imageRGB</em>) and re-organise the channels.\n"
   ]
  },
  {
   "cell_type": "code",
   "execution_count": null,
   "id": "e3724c7c",
   "metadata": {},
   "outputs": [],
   "source": [
    "imageRGB = image.copy()"
   ]
  },
  {
   "cell_type": "code",
   "execution_count": null,
   "id": "d6b6d8d8",
   "metadata": {},
   "outputs": [],
   "source": [
    "plt.imshow(imageRGB)"
   ]
  },
  {
   "cell_type": "code",
   "execution_count": null,
   "id": "1a4fc212",
   "metadata": {},
   "outputs": [],
   "source": [
    "rows,cols,c = image.shape"
   ]
  },
  {
   "cell_type": "code",
   "execution_count": null,
   "id": "d803c766",
   "metadata": {},
   "outputs": [],
   "source": [
    "for i in range(rows):\n",
    "    for j in range(cols):\n",
    "        imageRGB[i,j,2] = image[i,j,0] # Python RGB, openCV BGR\n",
    "        imageRGB[i,j,1] = image[i,j,1]\n",
    "        imageRGB[i,j,0] = image[i,j,2]"
   ]
  },
  {
   "cell_type": "code",
   "execution_count": null,
   "id": "41736100",
   "metadata": {},
   "outputs": [],
   "source": [
    "plt.imshow(imageRGB)"
   ]
  },
  {
   "cell_type": "markdown",
   "id": "ece86cb8",
   "metadata": {},
   "source": [
    "Now we see that the image data are organised in a way that the display functions create views that match better the reality, meaning the origin objects, scenarios etc. "
   ]
  },
  {
   "cell_type": "code",
   "execution_count": null,
   "id": "60f682d1",
   "metadata": {},
   "outputs": [],
   "source": []
  }
 ],
 "metadata": {
  "kernelspec": {
   "display_name": "Python 3",
   "language": "python",
   "name": "python3"
  },
  "language_info": {
   "codemirror_mode": {
    "name": "ipython",
    "version": 3
   },
   "file_extension": ".py",
   "mimetype": "text/x-python",
   "name": "python",
   "nbconvert_exporter": "python",
   "pygments_lexer": "ipython3",
   "version": "3.6.9"
  }
 },
 "nbformat": 4,
 "nbformat_minor": 5
}
