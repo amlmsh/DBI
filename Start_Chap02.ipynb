{
 "cells": [
  {
   "cell_type": "markdown",
   "id": "b3be1579",
   "metadata": {},
   "source": [
    "# Basics"
   ]
  },
  {
   "cell_type": "markdown",
   "id": "896721bc",
   "metadata": {},
   "source": [
    "## Chapter 2: Color image data and color maps"
   ]
  },
  {
   "cell_type": "code",
   "execution_count": null,
   "id": "e38da290",
   "metadata": {},
   "outputs": [],
   "source": [
    "import numpy as np\n",
    "from glob import glob\n",
    "from matplotlib import pyplot as plt\n",
    "\n",
    "import cv2"
   ]
  },
  {
   "cell_type": "code",
   "execution_count": null,
   "id": "71d90818",
   "metadata": {},
   "outputs": [],
   "source": [
    "imgData = glob('../../../pics/imagingbook-images-de3/ch03/*.*')"
   ]
  },
  {
   "cell_type": "code",
   "execution_count": null,
   "id": "88b2069a",
   "metadata": {},
   "outputs": [],
   "source": [
    "image = cv2.imread(imgData[6])"
   ]
  },
  {
   "cell_type": "code",
   "execution_count": null,
   "id": "e221c93a",
   "metadata": {},
   "outputs": [],
   "source": [
    "plt.imshow(image)"
   ]
  },
  {
   "cell_type": "markdown",
   "id": "f1af5c22",
   "metadata": {},
   "source": [
    "<b>1: the 3 dimensions of color image data</b>.<br>\n",
    "A color image is organised in three  2-dimensional arrays. The three array are also called channels. Each array / channels represents a specific color information. E.g. the red, blue or green part of the colors."
   ]
  },
  {
   "cell_type": "code",
   "execution_count": null,
   "id": "4cac7131",
   "metadata": {},
   "outputs": [],
   "source": [
    "image.shape"
   ]
  },
  {
   "cell_type": "code",
   "execution_count": null,
   "id": "69d845db",
   "metadata": {},
   "outputs": [],
   "source": [
    "image[:,:,0]"
   ]
  },
  {
   "cell_type": "code",
   "execution_count": null,
   "id": "e4b50c10",
   "metadata": {},
   "outputs": [],
   "source": [
    "image[:,:,1]"
   ]
  },
  {
   "cell_type": "code",
   "execution_count": null,
   "id": "53231f86",
   "metadata": {},
   "outputs": [],
   "source": [
    "image[:,:,2]"
   ]
  },
  {
   "cell_type": "code",
   "execution_count": null,
   "id": "8540be5b",
   "metadata": {},
   "outputs": [],
   "source": [
    "plt.imshow(image[:,:,0],cmap='gray')"
   ]
  },
  {
   "cell_type": "code",
   "execution_count": null,
   "id": "4fd68c38",
   "metadata": {},
   "outputs": [],
   "source": [
    "plt.imshow(image[:,:,1],cmap='gray')"
   ]
  },
  {
   "cell_type": "code",
   "execution_count": null,
   "id": "0791ea3b",
   "metadata": {},
   "outputs": [],
   "source": [
    "plt.imshow(image[:,:,2],cmap='gray')"
   ]
  },
  {
   "cell_type": "markdown",
   "id": "2d7c2000",
   "metadata": {},
   "source": [
    "<b>2. Why is the image of the fruits kind of \"blueish\"?</b><br>"
   ]
  },
  {
   "cell_type": "markdown",
   "id": "02798742",
   "metadata": {},
   "source": [
    "<b>Answer:</b> We read the image with openCV. openCV organises the color channels in the GBR order. The python plots expect a RGB order. So, the colors are mixed up.\n",
    "\n",
    "<b>Solution:</b> We create a new image (variable <em>imageRGB</em>) and re-organise the channels.\n"
   ]
  },
  {
   "cell_type": "code",
   "execution_count": null,
   "id": "c25be943",
   "metadata": {},
   "outputs": [],
   "source": [
    "imageRGB = image.copy()"
   ]
  },
  {
   "cell_type": "code",
   "execution_count": null,
   "id": "5aeac3c9",
   "metadata": {},
   "outputs": [],
   "source": [
    "plt.imshow(imageRGB)"
   ]
  },
  {
   "cell_type": "code",
   "execution_count": null,
   "id": "3538c0c8",
   "metadata": {},
   "outputs": [],
   "source": [
    "rows,cols,c = image.shape"
   ]
  },
  {
   "cell_type": "code",
   "execution_count": null,
   "id": "00897125",
   "metadata": {},
   "outputs": [],
   "source": [
    "for i in range(rows):\n",
    "    for j in range(cols):\n",
    "        imageRGB[i,j,2] = image[i,j,0] # Python RGB, openCV BGR\n",
    "        imageRGB[i,j,1] = image[i,j,1]\n",
    "        imageRGB[i,j,0] = image[i,j,2]"
   ]
  },
  {
   "cell_type": "code",
   "execution_count": null,
   "id": "cfdc49bb",
   "metadata": {},
   "outputs": [],
   "source": [
    "plt.imshow(imageRGB)"
   ]
  },
  {
   "cell_type": "markdown",
   "id": "f9c47722",
   "metadata": {},
   "source": [
    "Now we see that the image data are organised in a way that the display functions create views that match better the reality, meaning the origin objects, scenarios etc. "
   ]
  },
  {
   "cell_type": "code",
   "execution_count": null,
   "id": "b7a35570",
   "metadata": {},
   "outputs": [],
   "source": []
  }
 ],
 "metadata": {
  "kernelspec": {
   "display_name": "Python 3",
   "language": "python",
   "name": "python3"
  },
  "language_info": {
   "codemirror_mode": {
    "name": "ipython",
    "version": 3
   },
   "file_extension": ".py",
   "mimetype": "text/x-python",
   "name": "python",
   "nbconvert_exporter": "python",
   "pygments_lexer": "ipython3",
   "version": "3.6.9"
  }
 },
 "nbformat": 4,
 "nbformat_minor": 5
}
